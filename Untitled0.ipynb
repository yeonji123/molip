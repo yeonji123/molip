{
  "nbformat": 4,
  "nbformat_minor": 0,
  "metadata": {
    "colab": {
      "name": "Untitled0.ipynb",
      "provenance": [],
      "collapsed_sections": [],
      "authorship_tag": "ABX9TyNayKF3GHe69phtPCHAK1TY",
      "include_colab_link": true
    },
    "kernelspec": {
      "name": "python3",
      "display_name": "Python 3"
    },
    "language_info": {
      "name": "python"
    }
  },
  "cells": [
    {
      "cell_type": "markdown",
      "metadata": {
        "id": "view-in-github",
        "colab_type": "text"
      },
      "source": [
        "<a href=\"https://colab.research.google.com/github/yeonji123/molip/blob/main/Untitled0.ipynb\" target=\"_parent\"><img src=\"https://colab.research.google.com/assets/colab-badge.svg\" alt=\"Open In Colab\"/></a>"
      ]
    },
    {
      "cell_type": "code",
      "execution_count": null,
      "metadata": {
        "id": "lGVFMuT6dVEf"
      },
      "outputs": [],
      "source": [
        "# !pip install selenium #selenium 패키지 설치\n",
        "# !pip install pandas\n",
        "# !pip install selenium\n",
        "# !pip install webdriver_manager\n",
        "\n",
        "\n",
        "# !apt-get update\n",
        "# !apt install chromium-chromedriver\n",
        "\n",
        "\n",
        "import firebase_admin\n",
        "from firebase_admin import credentials\n",
        "from firebase_admin import db\n",
        "\n",
        "# !pip install firebase_admin \n",
        "# !pip3 install firebase_admin\n",
        "\n",
        "\n",
        "from selenium import webdriver\n",
        "from urllib.request import urlopen\n",
        "from bs4 import BeautifulSoup as bs\n",
        "from urllib.parse import quote_plus\n",
        "from selenium.webdriver.common.keys import Keys\n",
        "import time\n",
        "\n",
        "import sys    # 시스템\n",
        "import os     # 시스템\n",
        "import requests\n",
        "\n",
        "\n",
        "import pandas as pd    # 판다스 : 데이터분석 라이브러리\n",
        "import numpy as np     # 넘파이 : 숫자, 행렬 데이터 라이브러리\n",
        "\n",
        "from bs4 import BeautifulSoup     # html 데이터 전처리\n",
        "from selenium import webdriver    # 웹 브라우저 자동화\n",
        "from selenium.webdriver.common.by import By #By모듈 사용\n",
        "# from selenium.webdriver.common.service import Service\n",
        "# from webdriver_manager.chrome import ChromeDriverManager\n",
        "\n",
        "\n",
        "import time                       # 시간 지연\n",
        "from tqdm import tqdm_notebook    # 진행상황 표시"
      ]
    },
    {
      "cell_type": "code",
      "source": [
        "#한번만 실행\n",
        "cred = credentials.Certificate(\"team-a5651-firebase-adminsdk-5hdcl-6902c61bf2.json\")\n",
        "firebase_admin.initialize_app(cred,{\n",
        "    'databaseURL' : 'https://team-a5651-default-rtdb.firebaseio.com/'\n",
        "})"
      ],
      "metadata": {
        "id": "t-YXSgj6rqgC"
      },
      "execution_count": null,
      "outputs": []
    },
    {
      "cell_type": "code",
      "source": [
        "# 사이트 주소\n",
        "chrome_options = webdriver.ChromeOptions()\n",
        "chrome_options.add_argument('--headless')\n",
        "chrome_options.add_argument('--no-sandbox')\n",
        "chrome_options.add_argument('--disable-dev-shm-usage')\n",
        "driver = webdriver.Chrome('chromedriver', chrome_options=chrome_options)\n",
        "\n",
        "# 사이트 주소\n",
        "driver.get(\"https://sws.sunmoon.ac.kr/Login.aspx\")\n",
        "time.sleep(1)\n",
        "\n",
        "# ID와 PW를 입력\n",
        "element = driver.find_element(By.ID,\"txtID\") #f12눌러서 확인\n",
        "#ID 저장하는 변수 생성\n",
        "element.send_keys(stuid)\n",
        "element = driver.find_element(By.ID,\"txtPasswd\") #f12눌러서 확인\n",
        "#PW 저장하는 변수 생성\n",
        "element.send_keys(stupw)\n",
        "driver.find_element(By.ID,\"btnLogin\").click()\n",
        "#element.submit()\n",
        "time.sleep(1)\n",
        "\n",
        "# 수강신청 메뉴 클릭\n",
        "driver.find_element(By.CLASS_NAME,\"menuOn\").click()\n",
        "time.sleep(1)\n",
        "\n",
        "# 수강신청 확인하기 위해서 '정규학기 수강신청' 클릭\n",
        "driver.find_element(By.LINK_TEXT,\"정규학기 수강신청\").click()\n",
        "time.sleep(1)\n",
        "\n",
        "# '수강신청' 클릭\n",
        "driver.find_element(By.LINK_TEXT,\"수강신청\").click()\n",
        "time.sleep(1)\n",
        "\n",
        "# '과목조회' 클릭\n",
        "driver.find_element(By.LINK_TEXT,\"과목조회\").click()\n",
        "time.sleep(1)\n",
        "\n",
        "# '수강신청' 클릭\n",
        "driver.find_element(By.LINK_TEXT,\"수강신청\").click()\n",
        "time.sleep(1)\n",
        "\n",
        "# '수강신청' 클릭\n",
        "driver.find_element(By.LINK_TEXT,\"수강신청\").click()\n",
        "time.sleep(1)\n",
        "\n",
        "driver.find_element(By.XPATH,\"//select[@name='ddl_hakgwa']/option[text()='컴퓨터공학부']\").click()\n",
        "time.sleep(1)\n",
        "\n",
        "#'조회' 클릭\n",
        "driver.find_element(By.ID,\"btn_s_search\").click()\n",
        "time.sleep(1)\n",
        "\n",
        "ref = db.reference('lecture')\n",
        "ref.update({'lecture_period':'fsfdg'})\n",
        "\n",
        "\n",
        "for i in range(1,55):\n",
        "    body=('//*[@id=\"classList\"]/div[2]/table/tbody['+str(i)+']/tr/td[2]')\n",
        "    tbody=driver.find_element(By.XPATH,'//*[@id=\"classList\"]/div[2]/table/tbody['+str(i)+']/tr/td[2]')\n",
        "    ref = db.reference('lecture')\n",
        "    ref.update({i:{tbody.text.split('\\n')[2].split('/')[2]:tbody.text.split('\\n')[2].split('/')[3]}})\n",
        "\n",
        "\n",
        "#//*[@id=\"classList\"]/div[2]/table/tbody[1]/tr/td[2]\n",
        "#classList > div.tbl_line.mnt_only.mgT10 > table > tbody:nth-child(2) > tr > td.alignL\n",
        "\n",
        "\n",
        "# url = driver.current_url\n",
        "# r=requests.get(url).text.encode('utf-8')\n",
        "# r= bs4.BeautifulSoup(url.read(),'html.parser')\n",
        "# #classList > div.tbl_line.mnt_only.mgT10 > table > tbody:nth-child(2) > tr > td.alignL\n",
        "# target = r.find_all('tbody')\n",
        "# print(target)\n",
        "\n",
        "\n",
        "#soup = bs4.BeautifulSoup(r.text, 'html.parser')\n",
        "#informations=soup.select('classList > div.tbl_line.mnt_only.mgT10 > table > tbody')\n",
        "#for infor in informations:\n",
        "#    i=infor.select_one('tr > td.alignL > span.bold').get_text().strip()\n",
        "#    print(i)\n",
        "\n",
        "#classList > div.tbl_line.mnt_only.mgT10 > table > tbody:nth-child(2) > tr > td.alignL > span.bold\n",
        "#classList > div.tbl_line.mnt_only.mgT10 > table > tbody:nth-child(55) > tr > td.alignL > span.bold\n",
        "\n"
      ],
      "metadata": {
        "colab": {
          "base_uri": "https://localhost:8080/"
        },
        "id": "9nc3KiY9dbLg",
        "outputId": "134858c1-9990-49ac-cf04-ee230d6453db"
      },
      "execution_count": null,
      "outputs": [
        {
          "output_type": "stream",
          "name": "stderr",
          "text": [
            "/usr/local/lib/python3.7/dist-packages/ipykernel_launcher.py:6: DeprecationWarning: use options instead of chrome_options\n",
            "  \n"
          ]
        }
      ]
    }
  ]
}