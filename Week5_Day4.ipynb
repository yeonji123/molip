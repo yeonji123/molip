{
  "nbformat": 4,
  "nbformat_minor": 0,
  "metadata": {
    "colab": {
      "name": "Week5_Day4.ipynb",
      "provenance": [],
      "collapsed_sections": [],
      "authorship_tag": "ABX9TyNd6RsIqsOlTWFnwlrwrUJD",
      "include_colab_link": true
    },
    "kernelspec": {
      "name": "python3",
      "display_name": "Python 3"
    },
    "language_info": {
      "name": "python"
    }
  },
  "cells": [
    {
      "cell_type": "markdown",
      "metadata": {
        "id": "view-in-github",
        "colab_type": "text"
      },
      "source": [
        "<a href=\"https://colab.research.google.com/github/yeonji123/molip/blob/main/Week5_Day4.ipynb\" target=\"_parent\"><img src=\"https://colab.research.google.com/assets/colab-badge.svg\" alt=\"Open In Colab\"/></a>"
      ]
    },
    {
      "cell_type": "code",
      "execution_count": null,
      "metadata": {
        "id": "hX142w2DzIHm"
      },
      "outputs": [],
      "source": [
        "col,row=map(int, input().split())\n",
        "#입력하는 코드\n",
        "matrix=[]\n",
        "for i in range(row):\n",
        "    matrix.append(list(input()))\n",
        "\n",
        "list=[[0 for i in range(col)]for j in range(row)]\n",
        "\n",
        "for i in range(row):\n",
        "    for j in range(col):\n",
        "        count=0\n",
        "        if matrix[i][j]=='*':\n",
        "            \n",
        "            if i-1>=0:\n",
        "                list[i-1][j]+=1\n",
        "            if i+1<=row-1:\n",
        "                list[i+1][j]+=1\n",
        "            if j-1>=0:\n",
        "                list[i][j-1]+=1\n",
        "            if j+1<=row-1:\n",
        "                list[i][j+1]+=1\n",
        "            if i-1>=0 and j-1>=0:\n",
        "                list[i-1][j-1]+=1\n",
        "            if i-1>=0 and j+1<=col-1:\n",
        "                list[i-1][j+1]+=1\n",
        "            if i+1<=row-1 and j-1>=0:\n",
        "                list[i+1][j-1]+=1\n",
        "            if i+1<=row-1 and j+1<=col-1:\n",
        "                list[i+1][j+1]+=1\n",
        "        else:\n",
        "            continue\n",
        "        \n",
        "for i in range(row):\n",
        "    for j in range(col):\n",
        "        if matrix[i][j]=='*':\n",
        "            list[i][j]='*'\n",
        "        print(list[i][j],end='')\n",
        "    print()\n",
        "\n",
        "            \n",
        "\n"
      ]
    }
  ]
}