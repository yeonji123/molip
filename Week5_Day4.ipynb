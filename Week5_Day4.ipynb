{
  "nbformat": 4,
  "nbformat_minor": 0,
  "metadata": {
    "colab": {
      "name": "Week5_Day4.ipynb",
      "provenance": [],
      "collapsed_sections": [],
      "authorship_tag": "ABX9TyPj8H0HNt4NgN7TrGsMCIVt",
      "include_colab_link": true
    },
    "kernelspec": {
      "name": "python3",
      "display_name": "Python 3"
    },
    "language_info": {
      "name": "python"
    }
  },
  "cells": [
    {
      "cell_type": "markdown",
      "metadata": {
        "id": "view-in-github",
        "colab_type": "text"
      },
      "source": [
        "<a href=\"https://colab.research.google.com/github/yeonji123/molip/blob/main/Week5_Day4.ipynb\" target=\"_parent\"><img src=\"https://colab.research.google.com/assets/colab-badge.svg\" alt=\"Open In Colab\"/></a>"
      ]
    },
    {
      "cell_type": "code",
      "execution_count": null,
      "metadata": {
        "id": "hX142w2DzIHm"
      },
      "outputs": [],
      "source": [
        "col,row=map(int, input().split())\n",
        "#입력하는 코드\n",
        "matrix=[]\n",
        "for i in range(row):\n",
        "    matrix.append(list(input()))\n",
        "\n",
        "list=[[0 for i in range(col)]for j in range(row)]\n",
        "\n",
        "for i in range(row):\n",
        "    for j in range(col):\n",
        "        count=0\n",
        "        if matrix[i][j]=='*':\n",
        "            \n",
        "            if i-1>=0:\n",
        "                list[i-1][j]+=1\n",
        "            if i+1<=row-1:\n",
        "                list[i+1][j]+=1\n",
        "            if j-1>=0:\n",
        "                list[i][j-1]+=1\n",
        "            if j+1<=row-1:\n",
        "                list[i][j+1]+=1\n",
        "            if i-1>=0 and j-1>=0:\n",
        "                list[i-1][j-1]+=1\n",
        "            if i-1>=0 and j+1<=col-1:\n",
        "                list[i-1][j+1]+=1\n",
        "            if i+1<=row-1 and j-1>=0:\n",
        "                list[i+1][j-1]+=1\n",
        "            if i+1<=row-1 and j+1<=col-1:\n",
        "                list[i+1][j+1]+=1\n",
        "        else:\n",
        "            continue\n",
        "        \n",
        "for i in range(row):\n",
        "    for j in range(col):\n",
        "        if matrix[i][j]=='*':\n",
        "            list[i][j]='*'\n",
        "        print(list[i][j],end='')\n",
        "    print()\n",
        "\n",
        "            \n",
        "\n"
      ]
    },
    {
      "cell_type": "code",
      "source": [
        "x={'a':10, 'b':20,'c':30, 'd':40}\n",
        "x.setdefault('e')\n",
        "print(x)\n",
        "\n",
        "\n",
        "x.setdefault('f',100)\n",
        "print(x)\n"
      ],
      "metadata": {
        "colab": {
          "base_uri": "https://localhost:8080/"
        },
        "id": "ysrcno30RHLA",
        "outputId": "e8920b97-2aaa-4bb6-af6b-22211a04f51f"
      },
      "execution_count": null,
      "outputs": [
        {
          "output_type": "stream",
          "name": "stdout",
          "text": [
            "{'a': 10, 'b': 20, 'c': 30, 'd': 40, 'e': None}\n",
            "{'a': 10, 'b': 20, 'c': 30, 'd': 40, 'e': None, 'f': 100}\n"
          ]
        }
      ]
    },
    {
      "cell_type": "code",
      "source": [
        "x={'a':10, 'b':20,'c':30, 'd':40}\n",
        "x.update(a=90)\n",
        "print(x)\n",
        "\n",
        "x.update(g=200)\n",
        "print(x)"
      ],
      "metadata": {
        "colab": {
          "base_uri": "https://localhost:8080/"
        },
        "id": "8fajYaJSRJE_",
        "outputId": "a1980219-e64a-4bf1-dff2-9924dea338fc"
      },
      "execution_count": null,
      "outputs": [
        {
          "output_type": "stream",
          "name": "stdout",
          "text": [
            "{'a': 90, 'b': 20, 'c': 30, 'd': 40}\n",
            "{'a': 90, 'b': 20, 'c': 30, 'd': 40, 'g': 200}\n"
          ]
        }
      ]
    },
    {
      "cell_type": "code",
      "source": [
        "keys=['a','b','c','d']\n",
        "d={}\n",
        "for i,j in dict.fromkeys(keys).items():\n",
        "    d.setdefault(i,j)\n",
        "print(d)"
      ],
      "metadata": {
        "id": "YtzS-HVFRZdX",
        "colab": {
          "base_uri": "https://localhost:8080/"
        },
        "outputId": "7c98300a-7f14-4d88-a893-503af3a98e73"
      },
      "execution_count": null,
      "outputs": [
        {
          "output_type": "stream",
          "name": "stdout",
          "text": [
            "{'a': None, 'b': None, 'c': None, 'd': None}\n"
          ]
        }
      ]
    },
    {
      "cell_type": "code",
      "source": [
        "\n",
        "#{key:0 for key in dict.fromkeys(['a','b','c','d']).keys()}\n",
        "d={}\n",
        "for i in dict.fromkeys(['a','b','c','d']).keys():\n",
        "    d.setdefault(i,0)\n",
        "print(d)"
      ],
      "metadata": {
        "colab": {
          "base_uri": "https://localhost:8080/"
        },
        "id": "mbMKLA63kKh_",
        "outputId": "5365e6af-b688-4a43-d9af-1bf7c20cd5ad"
      },
      "execution_count": null,
      "outputs": [
        {
          "output_type": "stream",
          "name": "stdout",
          "text": [
            "{'a': 0, 'b': 0, 'c': 0, 'd': 0}\n"
          ]
        }
      ]
    },
    {
      "cell_type": "code",
      "source": [
        "#{value:0 for value in {'a':10,'b':20,'c':30,'d':40}.values()}\n",
        "\n",
        "d={}\n",
        "for i in  {'a':10,'b':20,'c':30,'d':40}.values():\n",
        "    d.setdefault(i,0)\n",
        "print(d)\n"
      ],
      "metadata": {
        "colab": {
          "base_uri": "https://localhost:8080/"
        },
        "id": "xKJC29OlkRlk",
        "outputId": "ff9f450c-0d20-4f6e-d19e-df24ea6aaef6"
      },
      "execution_count": null,
      "outputs": [
        {
          "output_type": "stream",
          "name": "stdout",
          "text": [
            "{10: 0, 20: 0, 30: 0, 40: 0}\n"
          ]
        }
      ]
    },
    {
      "cell_type": "code",
      "source": [
        "#{value:key for key,value in{'a':10,'b':20,'c':30,'d':40}.items()}\n",
        "d={}\n",
        "for i,j in {'a':10,'b':20,'c':30,'d':40}.items():\n",
        "    d.setdefault(j,i)\n",
        "print(d)"
      ],
      "metadata": {
        "colab": {
          "base_uri": "https://localhost:8080/"
        },
        "id": "nQYo3nH8ksyu",
        "outputId": "d6608369-35f1-42a7-e3bb-fa5769c14bd5"
      },
      "execution_count": null,
      "outputs": [
        {
          "output_type": "stream",
          "name": "stdout",
          "text": [
            "{10: 'a', 20: 'b', 30: 'c', 40: 'd'}\n"
          ]
        }
      ]
    },
    {
      "cell_type": "code",
      "source": [
        "file = open('hello.txt','w')\n",
        "file.write('Hello, world!')\n",
        "file.close()"
      ],
      "metadata": {
        "id": "F9nbZAClH6KU"
      },
      "execution_count": null,
      "outputs": []
    },
    {
      "cell_type": "code",
      "source": [
        "file = open('hello.txt','r')\n",
        "s=file.read()\n",
        "print(s)\n",
        "file.close()\n"
      ],
      "metadata": {
        "colab": {
          "base_uri": "https://localhost:8080/"
        },
        "id": "8a_5fkfSIi41",
        "outputId": "aa0de893-7f24-457f-839d-87bec7f5fc7b"
      },
      "execution_count": null,
      "outputs": [
        {
          "output_type": "stream",
          "name": "stdout",
          "text": [
            "Hello, world!\n"
          ]
        }
      ]
    },
    {
      "cell_type": "code",
      "source": [
        "with open('hello.txt','r') as file:\n",
        "    for line in file:\n",
        "        print(line.strip('\\n'))\n"
      ],
      "metadata": {
        "colab": {
          "base_uri": "https://localhost:8080/"
        },
        "id": "D9f-BrnHH7z-",
        "outputId": "74b85a13-a152-4b48-a639-646f1776f6f7"
      },
      "execution_count": null,
      "outputs": [
        {
          "output_type": "stream",
          "name": "stdout",
          "text": [
            "Hello, world!\n"
          ]
        }
      ]
    },
    {
      "cell_type": "code",
      "source": [
        "import pickle\n",
        "\n",
        "name='james'\n",
        "age=17\n",
        "address='서울시 서초구 반포동'\n",
        "scores={'korean':90,'english':95,'mathematics':85,'scirence':82}\n",
        "\n",
        "with open('james.txt','wb') as file:\n",
        "    pickle.dump(name,file)\n",
        "    pickle.dump(age,file)\n",
        "    pickle.dump(address,file)\n",
        "    pickle.dump(scores,file)\n"
      ],
      "metadata": {
        "id": "dr7y3ZW3IMG9"
      },
      "execution_count": null,
      "outputs": []
    },
    {
      "cell_type": "code",
      "source": [
        "import pickle\n",
        "with open ('james.txt','rb') as file:\n",
        "    name=pickle.load(file)\n",
        "    age=pickle.load(file)\n",
        "    address= pickle.load(file)\n",
        "    scores=pickle.load(file)\n",
        "    print(name)\n",
        "    print(age)\n",
        "    print(address)\n",
        "    print(scores)\n",
        "print()\n"
      ],
      "metadata": {
        "colab": {
          "base_uri": "https://localhost:8080/"
        },
        "id": "Mr6F8rS8NiZH",
        "outputId": "69c83be9-6ca9-47d8-ad7d-c7a49c203ff2"
      },
      "execution_count": null,
      "outputs": [
        {
          "output_type": "stream",
          "name": "stdout",
          "text": [
            "james\n",
            "17\n",
            "서울시 서초구 반포동\n",
            "{'korean': 90, 'english': 95, 'mathematics': 85, 'scirence': 82}\n",
            "\n"
          ]
        }
      ]
    },
    {
      "cell_type": "code",
      "source": [
        "def add_sub(a,b):\n",
        "    return a+b,a-b\n",
        "\n",
        "x,y=add_sub(10,20)\n",
        "print(30)\n",
        "print(-18)\n",
        "print(y)\n"
      ],
      "metadata": {
        "colab": {
          "base_uri": "https://localhost:8080/"
        },
        "id": "3li7JxihPDo7",
        "outputId": "564d8e9b-e423-4b16-9ea4-50c202c39758"
      },
      "execution_count": null,
      "outputs": [
        {
          "output_type": "stream",
          "name": "stdout",
          "text": [
            "30\n",
            "-18\n",
            "-10\n"
          ]
        }
      ]
    },
    {
      "cell_type": "code",
      "source": [
        "t={}\n",
        "#입력\n",
        "for i in range(2):\n",
        "    print(i+1,'번째')\n",
        "    stunum=input('학번을 입력하세요')\n",
        "    t.setdefault(stunum) #key값이 학번인 딕셔너리에 추가\n",
        "\n",
        "    name = input('이름 : ')\n",
        "    kor=int(input('국어성적 : '))\n",
        "    eng=int(input('영어성적 : '))\n",
        "    math= int(input('수학성적 :'))\n",
        "\n",
        "    x={'name':name,'kor':kor,'eng':eng,'math':math,'total':0,'avg':0.0}\n",
        "\n",
        "    t.update(stunum=x)\n",
        "\n",
        "    total=0\n",
        "    for key,value in x.items():\n",
        "        if key=='kor' or key=='eng' or key=='math':\n",
        "            total+=value\n",
        "        if key=='total':\n",
        "            x.update(total=total)\n",
        "        if key=='avg':\n",
        "            x.update(avg=round(total/3,2))\n",
        "print(t)\n"
      ],
      "metadata": {
        "colab": {
          "base_uri": "https://localhost:8080/"
        },
        "id": "7ox85jUgtJRH",
        "outputId": "2ecab655-3bed-43ce-cacf-e251f2a7db15"
      },
      "execution_count": null,
      "outputs": [
        {
          "output_type": "stream",
          "name": "stdout",
          "text": [
            "1 번째\n",
            "학번을 입력하세요23\n",
            "이름 : a\n",
            "국어성적 : 3\n",
            "영어성적 : 3\n",
            "수학성적 :3\n",
            "2 번째\n",
            "학번을 입력하세요26\n",
            "이름 : b\n",
            "국어성적 : 5\n",
            "영어성적 : 5\n",
            "수학성적 :5\n",
            "{'23': None, 'stunum': {'name': 'b', 'kor': 5, 'eng': 5, 'math': 5, 'total': 15, 'avg': 5.0}, '26': None}\n"
          ]
        }
      ]
    },
    {
      "cell_type": "code",
      "source": [
        "import pickle\n",
        "\n",
        "t={}\n",
        "while(True):\n",
        "    with open('score.txt','rb') as file:\n",
        "        t=pickle.load(file)\n",
        "    print('┌-───────────────────-┐')\n",
        "    print('ㅣ 1.추가  2.출력  3.검색  4.삭제  5.종료 ㅣ')\n",
        "    print('└───────────────────--┘')\n",
        "    num=int(input('번호를 입력하세요'))\n",
        "    x={}\n",
        "    if num==1:#추가\n",
        "        stu=int(input('몇명을 입력하시겠습니까'))\n",
        "        for i in range(stu):\n",
        "            print(i+1,'번째')\n",
        "            stunum=input('학번을 입력하세요 : ')\n",
        "            name = input('이름 : ')\n",
        "            kor=int(input('국어성적 : '))\n",
        "            eng=int(input('영어성적 : '))\n",
        "            math= int(input('수학성적 : '))\n",
        "            \n",
        "            x={'이름':name,'국어':kor,'영어':eng,'수학':math,'총점':0,'평균':0}           \n",
        "            \n",
        "            total=0\n",
        "            for key,value in x.items():\n",
        "                if key=='국어' or key=='영어' or key=='수학':\n",
        "                    total+=value\n",
        "                if key=='총점':\n",
        "                    x.update(총점=total)\n",
        "                if key=='평균':\n",
        "                    x.update(평균=round(total/3,2))\n",
        "            t.setdefault(stunum,x)\n",
        "            \n",
        "        with open('score.txt','wb') as file:\n",
        "            pickle.dump(t,file)\n",
        "            \n",
        "    elif num==2: #출력 정렬X\n",
        "        #람다식으로 국/영/수 등급순, 평균순으로 정렬하여 출력\n",
        "        print('전체출력')\n",
        "        for stu, value in t.items():\n",
        "            print('학번 : ',stu)\n",
        "            for sub, score in value.items():\n",
        "                print(sub,':',score)\n",
        "            print('-----------------------')\n",
        "\n",
        "\n",
        "    elif num==3:#검색\n",
        "        find=input('검색하고자하는 학생의 학번 : ')\n",
        "        for stu, value in t.items():\n",
        "            if stu==find:\n",
        "                for sub,score in value.items():\n",
        "                    print(sub,':',score)\n",
        "        \n",
        "    elif num==4: #삭제\n",
        "        print('학생들의 학번 : ',end='')\n",
        "        for key in t.keys():\n",
        "            print(key,end=' ')\n",
        "        print()\n",
        "        \n",
        "        delete=input('삭제하고자하는 학생의 학번 : ')\n",
        "        t={key:value for key,value in t.items() if key!=delete}\n",
        "                \n",
        "        print('삭제 후 학생들의 학번')\n",
        "        for key in t.keys():\n",
        "            print(key,end=' ')\n",
        "            \n",
        "        with open('score.txt','wb') as file:\n",
        "            pickle.dump(t,file)\n",
        "        \n",
        "    elif num==5:\n",
        "        print('종료합니다')\n",
        "        break\n",
        "    else:\n",
        "        print('다시입력하세요')\n"
      ],
      "metadata": {
        "id": "-GSIqNa6uUgB"
      },
      "execution_count": null,
      "outputs": []
    },
    {
      "cell_type": "code",
      "source": [
        "import operator\n",
        "dict={20:{'이름':'a','국어':2},30:{'이름':'b','국어':4},40:{'이름':'c','국어':3},50:{'이름':'a','국어':1}}\n",
        "\n",
        "print(sdict)"
      ],
      "metadata": {
        "id": "byCdTe1bxnV4"
      },
      "execution_count": null,
      "outputs": []
    },
    {
      "cell_type": "code",
      "source": [
        "import operator\n",
        "dict = {'A' : 1, 'D' : 4, 'C' : 3, 'B' : 2}\n",
        "sdict = sorted(dict.items(), key=operator.itemgetter(1))\n",
        "print(sdict)"
      ],
      "metadata": {
        "colab": {
          "base_uri": "https://localhost:8080/"
        },
        "id": "katmc3CTz-o9",
        "outputId": "89a230e8-49e6-4948-8159-2a7082ad2688"
      },
      "execution_count": null,
      "outputs": [
        {
          "output_type": "stream",
          "name": "stdout",
          "text": [
            "[('A', 1), ('B', 2), ('C', 3), ('D', 4)]\n"
          ]
        }
      ]
    },
    {
      "cell_type": "markdown",
      "source": [
        "### 25장 문제"
      ],
      "metadata": {
        "id": "St_mmDxQf1q_"
      }
    },
    {
      "cell_type": "code",
      "source": [
        "maria={'kor':94,'eng':91 , 'math':89, 'sci':83}\n",
        "avg=sum(maria.values()) / len(maria)\n",
        "print(avg)"
      ],
      "metadata": {
        "colab": {
          "base_uri": "https://localhost:8080/"
        },
        "id": "8zWLY0wif0Pe",
        "outputId": "b1965eab-cec6-4d84-d6ca-07b0ba59c3d4"
      },
      "execution_count": 2,
      "outputs": [
        {
          "output_type": "stream",
          "name": "stdout",
          "text": [
            "89.25\n"
          ]
        }
      ]
    },
    {
      "cell_type": "code",
      "source": [
        "keys = input().split()\n",
        "values = map(int, input().split())\n",
        " \n",
        "x = dict(zip(keys, values))\n",
        "x.pop('delta')\n",
        "x={key:value for key, value in x.items() if  value !=30}\n",
        " \n",
        "print(x)"
      ],
      "metadata": {
        "colab": {
          "base_uri": "https://localhost:8080/"
        },
        "id": "XMXzMx0rgbiT",
        "outputId": "dce16b36-0fcb-41df-c842-78d7f3a6c7df"
      },
      "execution_count": 11,
      "outputs": [
        {
          "output_type": "stream",
          "name": "stdout",
          "text": [
            "alpha bravo charlie delta\n",
            "10 20 30 40\n",
            "{'alpha': 10, 'bravo': 20}\n"
          ]
        }
      ]
    },
    {
      "cell_type": "markdown",
      "source": [
        "###26장 문제"
      ],
      "metadata": {
        "id": "xLQskaqQ-EIP"
      }
    },
    {
      "cell_type": "code",
      "source": [
        "a={i for i in range(1,100)if i%3==0 }\n",
        "b={i for i in range(1,100) if i%5==0}\n",
        "\n",
        "print(a&b)"
      ],
      "metadata": {
        "colab": {
          "base_uri": "https://localhost:8080/"
        },
        "id": "nSGvllr4gbpK",
        "outputId": "6d3716f0-1e97-4711-e896-7d23affbede7"
      },
      "execution_count": 13,
      "outputs": [
        {
          "output_type": "stream",
          "name": "stdout",
          "text": [
            "{75, 45, 15, 90, 60, 30}\n"
          ]
        }
      ]
    },
    {
      "cell_type": "code",
      "source": [
        "a,b = map(int, input().split())\n",
        "\n",
        "a={i for i in range(1,a+1) if a%i==0}\n",
        "b={i for i in range(1,b+1) if b%i==0}\n",
        "\n",
        "divisor = a&b\n",
        "\n",
        "if type(divisor)==set:\n",
        "  result=sum(divisor)\n",
        "\n",
        "print(result)"
      ],
      "metadata": {
        "colab": {
          "base_uri": "https://localhost:8080/"
        },
        "id": "RuY1RS_Y99Xv",
        "outputId": "e34e3765-d3ec-424a-a540-e7fd798f9ec2"
      },
      "execution_count": 17,
      "outputs": [
        {
          "output_type": "stream",
          "name": "stdout",
          "text": [
            "10 20\n",
            "18\n"
          ]
        }
      ]
    },
    {
      "cell_type": "markdown",
      "source": [
        "###27장 문제"
      ],
      "metadata": {
        "id": "PtoZkXgFF7dX"
      }
    },
    {
      "cell_type": "code",
      "source": [
        "with open('words.txt','r') as file:\n",
        "    count=0\n",
        "    words=file.readlines()\n",
        "    for i in words:\n",
        "        if len(i.strip('\\n'))<=10:\n",
        "            count+=1\n",
        "    print(count)"
      ],
      "metadata": {
        "id": "80qkXc_uF-Vm"
      },
      "execution_count": null,
      "outputs": []
    },
    {
      "cell_type": "code",
      "source": [
        "with open('words.txt','r') as file:\n",
        "  for line in file:\n",
        "    words=line.split('.,')\n",
        "    for i in words:\n",
        "      if 'c' in words:\n",
        "        print(i.strip('.,'))"
      ],
      "metadata": {
        "id": "bMl1ex-GHZFO"
      },
      "execution_count": null,
      "outputs": []
    }
  ]
}