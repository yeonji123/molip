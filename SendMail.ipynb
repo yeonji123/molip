{
  "nbformat": 4,
  "nbformat_minor": 0,
  "metadata": {
    "colab": {
      "name": "SendMail.ipynb",
      "provenance": [],
      "collapsed_sections": [],
      "authorship_tag": "ABX9TyPhg6wNoXiYoSMpGGkuOxs5",
      "include_colab_link": true
    },
    "kernelspec": {
      "name": "python3",
      "display_name": "Python 3"
    },
    "language_info": {
      "name": "python"
    }
  },
  "cells": [
    {
      "cell_type": "markdown",
      "metadata": {
        "id": "view-in-github",
        "colab_type": "text"
      },
      "source": [
        "<a href=\"https://colab.research.google.com/github/yeonji123/molip/blob/main/SendMail.ipynb\" target=\"_parent\"><img src=\"https://colab.research.google.com/assets/colab-badge.svg\" alt=\"Open In Colab\"/></a>"
      ]
    },
    {
      "cell_type": "code",
      "execution_count": 7,
      "metadata": {
        "id": "BvacOJ_QAQA1"
      },
      "outputs": [],
      "source": [
        "import smtplib\n",
        "from email.mime.text import MIMEText\n"
      ]
    },
    {
      "cell_type": "code",
      "source": [
        "s=smtplib.SMTP('smtp.gmail.com',587)\n",
        "\n",
        "s.starttls()"
      ],
      "metadata": {
        "id": "2vZrJIMOAtUD"
      },
      "execution_count": null,
      "outputs": []
    },
    {
      "cell_type": "code",
      "source": [
        "s.login('본인 이메일','앱 비밀번호')\n"
      ],
      "metadata": {
        "id": "tSPaXRhdA-tl"
      },
      "execution_count": null,
      "outputs": []
    },
    {
      "cell_type": "code",
      "source": [
        "msg=MIMEText('내용:본문 내용 테스트입니다.')\n",
        "msg['subject']='제목 : 메일 보내기 테스트입니다.'"
      ],
      "metadata": {
        "id": "VZNCFm2WClf8"
      },
      "execution_count": 10,
      "outputs": []
    },
    {
      "cell_type": "code",
      "source": [
        "s.sendmail(\"보내는 사람\",\"받는 사람\",msg.as_string())\n",
        "s.quit()"
      ],
      "metadata": {
        "id": "dxefuodRCx__"
      },
      "execution_count": null,
      "outputs": []
    }
  ]
}