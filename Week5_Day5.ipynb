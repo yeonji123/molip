{
  "nbformat": 4,
  "nbformat_minor": 0,
  "metadata": {
    "colab": {
      "name": "Week5_Day5.ipynb",
      "provenance": [],
      "collapsed_sections": [],
      "authorship_tag": "ABX9TyOtUBp0UzA0pmFq3YIn8y8/",
      "include_colab_link": true
    },
    "kernelspec": {
      "name": "python3",
      "display_name": "Python 3"
    },
    "language_info": {
      "name": "python"
    }
  },
  "cells": [
    {
      "cell_type": "markdown",
      "metadata": {
        "id": "view-in-github",
        "colab_type": "text"
      },
      "source": [
        "<a href=\"https://colab.research.google.com/github/yeonji123/molip/blob/main/Week5_Day5.ipynb\" target=\"_parent\"><img src=\"https://colab.research.google.com/assets/colab-badge.svg\" alt=\"Open In Colab\"/></a>"
      ]
    },
    {
      "cell_type": "markdown",
      "source": [
        "##32장 문제"
      ],
      "metadata": {
        "id": "DSM-4Tcc1EXF"
      }
    },
    {
      "cell_type": "code",
      "execution_count": null,
      "metadata": {
        "colab": {
          "base_uri": "https://localhost:8080/"
        },
        "id": "ujBDg3IY06go",
        "outputId": "576e8652-b304-494b-fb58-c8f1bc30930e"
      },
      "outputs": [
        {
          "output_type": "stream",
          "name": "stdout",
          "text": [
            "['1.png', '10.jpg', '2.jpg', '3.png']\n"
          ]
        }
      ],
      "source": [
        "file=['font', '1.png', '10.jpg', '11.gif', '2.jpg', '3.png', 'table.xslx', 'spec.docx']\n",
        "\n",
        "\n",
        "print(list(filter(lambda x:x.find('.jpg')!=-1 or x.find('.png')!=-1,file)))"
      ]
    },
    {
      "cell_type": "code",
      "source": [
        "files=input().split()\n",
        "print(list(map(lambda x:'{0:03d}'.format(int(x.split('.')[0]))+'.'+x.split('.')[1],files)))\n"
      ],
      "metadata": {
        "colab": {
          "base_uri": "https://localhost:8080/"
        },
        "id": "oDdQ_T3m1IeF",
        "outputId": "482a8105-8db9-4eb4-a71d-b41fbf22e317"
      },
      "execution_count": null,
      "outputs": [
        {
          "output_type": "stream",
          "name": "stdout",
          "text": [
            "1.jpg 10.png 11.png 2.jpg 3.png\n",
            "['001.jpg', '010.png', '011.png', '002.jpg', '003.png']\n"
          ]
        }
      ]
    },
    {
      "cell_type": "markdown",
      "source": [
        "###33장 문제\n"
      ],
      "metadata": {
        "id": "e-8PJu4k6L3V"
      }
    },
    {
      "cell_type": "code",
      "source": [
        "def counter():\n",
        "    i=0;\n",
        "    def count():\n",
        "        nonlocal i\n",
        "        i+=1\n",
        "        return i\n",
        "    return count\n",
        "c=counter()\n",
        "for i in range(10):\n",
        "    print(c(), end=' ')"
      ],
      "metadata": {
        "colab": {
          "base_uri": "https://localhost:8080/"
        },
        "id": "Ql5Gxgdv6LMJ",
        "outputId": "18376259-faf3-4192-a48c-2eb805ab5b43"
      },
      "execution_count": null,
      "outputs": [
        {
          "output_type": "stream",
          "name": "stdout",
          "text": [
            "1 2 3 4 5 6 7 8 9 10 "
          ]
        }
      ]
    },
    {
      "cell_type": "code",
      "source": [
        "def countdown(n):\n",
        "    i=n+1\n",
        "    def count():\n",
        "        nonlocal i\n",
        "        i-=1\n",
        "        return i\n",
        "    return count\n",
        "\n",
        "n=int(input())\n",
        "\n",
        "c=countdown(n)\n",
        "for i in range(n):\n",
        "    print(c(), end=' ')\n",
        "    \n"
      ],
      "metadata": {
        "colab": {
          "base_uri": "https://localhost:8080/"
        },
        "id": "Oql4_adT6QPU",
        "outputId": "487ee7f6-2141-462e-f41c-ac0508d2e7a5"
      },
      "execution_count": null,
      "outputs": [
        {
          "output_type": "stream",
          "name": "stdout",
          "text": [
            "10\n",
            "10 9 8 7 6 5 4 3 2 1 "
          ]
        }
      ]
    },
    {
      "cell_type": "markdown",
      "source": [
        "###34장 문제"
      ],
      "metadata": {
        "id": "mqUUvj7q8WC4"
      }
    },
    {
      "cell_type": "code",
      "source": [
        "class Knight:\n",
        "\n",
        "    def __init__(self, health, mana, armor):\n",
        "\n",
        "        self.health = health\n",
        "\n",
        "        self.mana=mana\n",
        "\n",
        "        self.armor = armor\n",
        "\n",
        "    def slash(self):\n",
        "        \n",
        "        print('베기')\n",
        "\n",
        "x=Knight(health = 542.4, mana=210.3, armor=38)\n",
        "print(x.health,x.mana, x.armor)\n",
        "x.slash()"
      ],
      "metadata": {
        "id": "CDn7Ws4X6QTn"
      },
      "execution_count": null,
      "outputs": []
    },
    {
      "cell_type": "code",
      "source": [
        "class Annie:\n",
        "    def __init__(self, health, mana, ability_power):\n",
        "        self.health= health\n",
        "        self.mana= mana\n",
        "        self.ability_power = ability_power\n",
        "    def tibbers(self):\n",
        "        print('티버: 피해량 {0}'.format(ability_power*0.65 + 400))\n",
        "\n",
        "\n",
        "health, mana, ability_power =map(float, input().split())\n",
        "\n",
        "x=Annie(health=health, mana=mana, ability_power=ability_power)\n",
        "x.tibbers()"
      ],
      "metadata": {
        "id": "Y5RyLRFri1Ki"
      },
      "execution_count": null,
      "outputs": []
    },
    {
      "cell_type": "markdown",
      "source": [
        "###35장 문제"
      ],
      "metadata": {
        "id": "ADfgTqDE9MfB"
      }
    },
    {
      "cell_type": "code",
      "source": [
        "class Date:\n",
        "    def is_date_valid(str):\n",
        "        year,month,day = map(int,str.split('-'))\n",
        "        return month<=12 and day<=31\n",
        "\n",
        "if Date.is_date_valid('2000-10-31'):\n",
        "    print('올바른 날짜 형식입니다')\n",
        "else:\n",
        "    print('잘못된 날짜 형식입니다')"
      ],
      "metadata": {
        "id": "rTPDD2Au9QUe",
        "colab": {
          "base_uri": "https://localhost:8080/"
        },
        "outputId": "47515fc2-4bc2-4ab1-9d21-0707feca15f3"
      },
      "execution_count": 15,
      "outputs": [
        {
          "output_type": "stream",
          "name": "stdout",
          "text": [
            "올바른 날짜 형식입니다\n"
          ]
        }
      ]
    },
    {
      "cell_type": "code",
      "source": [
        "class Time:\n",
        "    def __init__(self, hour,minute, second):\n",
        "        self.hour = hour\n",
        "        self.minute=minute\n",
        "        self.second=second\n",
        "\n",
        "    def is_time_valid(str):\n",
        "        hour, minute, second=map(int, str.split(':'))\n",
        "        return hour<=24 and minute<=59 and second<=60   \n",
        "                    \n",
        "    def from_string(cls,str):\n",
        "        hour, minute, second=map(int, str.split(':'))\n",
        "        time = cls(hour,minute,second)\n",
        "        return time   \n",
        "\n",
        "time_string = input()\n",
        "\n",
        "if Time.is_time_valid(time_string):\n",
        "    t=Time.from_string(time_string)\n",
        "    print(t.hour,t.month, t.second)\n",
        "else:\n",
        "    print('잘못된 시간 형식입니다')\n"
      ],
      "metadata": {
        "id": "UsrDUkiT-G2-"
      },
      "execution_count": null,
      "outputs": []
    }
  ]
}